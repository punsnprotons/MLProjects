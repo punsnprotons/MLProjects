{
 "cells": [
  {
   "cell_type": "code",
   "execution_count": null,
   "id": "0e66df52",
   "metadata": {},
   "outputs": [],
   "source": [
    "import pandas as pd\n",
    "import numpy as np\n",
    "from scipy.stats import chi2_contingency, binom_test\n"
   ]
  },
  {
   "cell_type": "code",
   "execution_count": null,
   "id": "e5819598",
   "metadata": {},
   "outputs": [],
   "source": [
    "# Read in the `clicks.csv` file as `abdata`\n",
    "abdata = pd.read_csv('clicks.csv')\n",
    "\n",
    "# Display the first few rows of the dataset\n",
    "print(abdata.head())"
   ]
  },
  {
   "cell_type": "code",
   "execution_count": null,
   "id": "d834b339",
   "metadata": {},
   "outputs": [],
   "source": [
    "# Perform chi-squared contingency test\n",
    "Xtab = pd.crosstab(abdata.group, abdata.is_purchase)\n",
    "chi2, pval, dof, expected = chi2_contingency(Xtab)\n",
    "# Uncomment the line below if you want to print the p-value\n",
    "# print(pval)"
   ]
  },
  {
   "cell_type": "code",
   "execution_count": null,
   "id": "3e103116",
   "metadata": {},
   "outputs": [],
   "source": [
    "# Calculate the number of visits, sales needed, and the probability of sales for each group\n",
    "num_visits = len(abdata)\n",
    "num_sales_needed_099 = 1000 / 0.99\n",
    "p_sales_needed_099 = num_sales_needed_099 / num_visits\n",
    "num_sales_needed_199 = 1000 / 1.99\n",
    "p_sales_needed_199 = num_sales_needed_199 / num_visits\n",
    "num_sales_needed_499 = 1000 / 4.99\n",
    "p_sales_needed_499 = num_sales_needed_499 / num_visits"
   ]
  },
  {
   "cell_type": "code",
   "execution_count": null,
   "id": "bf1c03b4",
   "metadata": {},
   "outputs": [],
   "source": [
    "# Calculate sample sizes and sales for each group\n",
    "samp_size_099 = np.sum(abdata.group == 'A')\n",
    "sales_099 = np.sum((abdata.group == 'A') & (abdata.is_purchase == 'Yes'))\n",
    "samp_size_199 = np.sum(abdata.group == 'B')\n",
    "sales_199 = np.sum((abdata.group == 'B') & (abdata.is_purchase == 'Yes'))\n",
    "samp_size_499 = np.sum(abdata.group == 'C')\n",
    "sales_499 = np.sum((abdata.group == 'C') & (abdata.is_purchase == 'Yes'))\n"
   ]
  },
  {
   "cell_type": "code",
   "execution_count": null,
   "id": "28f44cfe",
   "metadata": {},
   "outputs": [],
   "source": [
    "# Perform binomial tests for each group\n",
    "p_val_a = binom_test(sales_099, samp_size_099, p=p_sales_needed_099, alternative='greater')\n",
    "p_val_b = binom_test(sales_199, samp_size_199, p=p_sales_needed_199, alternative='greater')\n",
    "p_val_c = binom_test(sales_499, samp_size_499, p=p_sales_needed_499, alternative='greater')"
   ]
  },
  {
   "cell_type": "code",
   "execution_count": null,
   "id": "94459b8d",
   "metadata": {},
   "outputs": [],
   "source": [
    "\n",
    "# Print the p-values for each group\n",
    "print(p_val_a)\n",
    "print(p_val_b)\n",
    "print(p_val_c)"
   ]
  }
 ],
 "metadata": {
  "kernelspec": {
   "display_name": "Python 3 (ipykernel)",
   "language": "python",
   "name": "python3"
  },
  "language_info": {
   "codemirror_mode": {
    "name": "ipython",
    "version": 3
   },
   "file_extension": ".py",
   "mimetype": "text/x-python",
   "name": "python",
   "nbconvert_exporter": "python",
   "pygments_lexer": "ipython3",
   "version": "3.11.3"
  }
 },
 "nbformat": 4,
 "nbformat_minor": 5
}
