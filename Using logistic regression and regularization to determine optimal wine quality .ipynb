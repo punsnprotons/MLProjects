{
 "cells": [
  {
   "cell_type": "code",
   "execution_count": 20,
   "id": "4dafe315",
   "metadata": {},
   "outputs": [],
   "source": [
    "# Importing necessary libraries\n",
    "import numpy as np\n",
    "import pandas as pd\n",
    "import matplotlib.pyplot as plt\n",
    "import seaborn as sns\n"
   ]
  },
  {
   "cell_type": "code",
   "execution_count": 21,
   "id": "555a5eb0",
   "metadata": {},
   "outputs": [],
   "source": [
    "# Loading the dataset\n",
    "df = pd.read_csv('wine_quality.csv')\n",
    "print(df.columns)"
   ]
  },
  {
   "cell_type": "code",
   "execution_count": 22,
   "id": "f3c88568",
   "metadata": {},
   "outputs": [],
   "source": [
    "# Extracting the target variable and features\n",
    "y = df['quality']\n",
    "features = df.drop(columns=['quality'])"
   ]
  },
  {
   "cell_type": "code",
   "execution_count": 23,
   "id": "aa0442bf",
   "metadata": {},
   "outputs": [],
   "source": [
    "## 1. Data transformation\n",
    "# Scaling the features using StandardScaler\n",
    "from sklearn.preprocessing import StandardScaler\n",
    "standard_scaler_fit = StandardScaler().fit(features)\n",
    "X = standard_scaler_fit.transform(features)"
   ]
  },
  {
   "cell_type": "code",
   "execution_count": 24,
   "id": "be911d82",
   "metadata": {},
   "outputs": [],
   "source": [
    "## 2. Train-test split\n",
    "# Splitting the data into training and testing sets\n",
    "from sklearn.model_selection import train_test_split\n",
    "X_train, X_test, y_train, y_test = train_test_split(X, y, test_size=0.2, random_state=99)"
   ]
  },
  {
   "cell_type": "code",
   "execution_count": 25,
   "id": "d1fea388",
   "metadata": {},
   "outputs": [],
   "source": [
    "## 3. Fitting a logistic regression classifier without regularization\n",
    "# Training a logistic regression classifier with no regularization\n",
    "from sklearn.linear_model import LogisticRegression\n",
    "\n",
    "clf_no_reg = LogisticRegression(penalty='none')\n",
    "clf_no_reg.fit(X_train, y_train)\n"
   ]
  },
  {
   "cell_type": "code",
   "execution_count": 26,
   "id": "4e8a8f33",
   "metadata": {},
   "outputs": [],
   "source": [
    "## 4. Plotting the coefficients\n",
    "# Visualizing the coefficients of the logistic regression model\n",
    "predictors = features.columns\n",
    "coefficients = clf_no_reg.coef_.ravel()\n",
    "coef = pd.Series(coefficients, predictors).sort_values()\n",
    "coef.plot(kind='bar', title='Coefficients (no regularization)')\n",
    "plt.tight_layout()\n",
    "plt.show()\n",
    "plt.clf()"
   ]
  },
  {
   "cell_type": "code",
   "execution_count": 27,
   "id": "2fae72d5",
   "metadata": {},
   "outputs": [],
   "source": [
    "## 5. Training and test performance\n",
    "# Evaluating the training and test performance using F1 score\n",
    "from sklearn.metrics import f1_score\n",
    "y_pred_test = clf_no_reg.predict(X_test)\n",
    "y_pred_train = clf_no_reg.predict(X_train)\n",
    "print('Training Score', f1_score(y_train, y_pred_train))\n",
    "print('Testing Score', f1_score(y_test, y_pred_test))"
   ]
  },
  {
   "cell_type": "code",
   "execution_count": 28,
   "id": "692b3eec",
   "metadata": {},
   "outputs": [],
   "source": [
    "## 6. Default Implementation (L2-regularized!)\n",
    "# Training a logistic regression classifier with L2 regularization (default)\n",
    "clf_default = LogisticRegression()\n",
    "clf_default.fit(X_train, y_train)"
   ]
  },
  {
   "cell_type": "code",
   "execution_count": 29,
   "id": "6545d74b",
   "metadata": {},
   "outputs": [],
   "source": [
    "## 7. Ridge Scores\n",
    "# Evaluating the training and test performance of the L2-regularized model\n",
    "y_pred_train_ridge = clf_default.predict(X_train)\n",
    "y_pred_test_ridge = clf_default.predict(X_test)\n",
    "print(' Ridge-regularized Training Score', f1_score(y_train, y_pred_train_ridge))\n",
    "print('Ridge-regularized Testing Score', f1_score(y_test, y_pred_test_ridge))"
   ]
  },
  {
   "cell_type": "code",
   "execution_count": 30,
   "id": "7c604e28",
   "metadata": {},
   "outputs": [],
   "source": [
    "## 8. Coarse-grained hyperparameter tuning\n",
    "# Tuning the hyperparameter C for logistic regression\n",
    "training_array = []\n",
    "test_array = []\n",
    "C_array = [0.0001, 0.001, 0.01, 0.1, 1]\n",
    "for x in C_array:\n",
    "    clf = LogisticRegression(C=x)\n",
    "    clf.fit(X_train, y_train)\n",
    "    y_pred_test = clf.predict(X_test)\n",
    "    y_pred_train = clf.predict(X_train)\n",
    "    training_array.append(f1_score(y_train, y_pred_train))\n",
    "    test_array.append(f1_score(y_test, y_pred_test))"
   ]
  },
  {
   "cell_type": "code",
   "execution_count": 31,
   "id": "63a838e7",
   "metadata": {},
   "outputs": [],
   "source": [
    "## 9. Plotting training and test scores as a function of C\n",
    "# Visualizing training and test scores for different values of C\n",
    "plt.plot(C_array, training_array, label='Training Score')\n",
    "plt.plot(C_array, test_array, label='Test Score')\n",
    "plt.xscale('log')\n",
    "plt.xlabel('C')\n",
    "plt.legend()\n",
    "plt.show()\n",
    "plt.clf()"
   ]
  },
  {
   "cell_type": "code",
   "execution_count": 32,
   "id": "9bc426c9",
   "metadata": {},
   "outputs": [],
   "source": [
    "## 10. Making a parameter grid for GridSearchCV\n",
    "# Defining a parameter grid for GridSearchCV\n",
    "C_array = np.logspace(-4, -2, 100)\n",
    "# Making a dict to enter as an input to param_grid\n",
    "tuning_C = {'C': C_array}\n"
   ]
  },
  {
   "cell_type": "code",
   "execution_count": 33,
   "id": "cf55552f",
   "metadata": {},
   "outputs": [],
   "source": [
    "## 11. Implementing GridSearchCV with l2 penalty\n",
    "# Using GridSearchCV to find the optimal value of C with L2 penalty\n",
    "from sklearn.model_selection import GridSearchCV\n",
    "clf_gs = LogisticRegression()\n",
    "gs = GridSearchCV(clf_gs, param_grid=tuning_C, scoring='f1', cv=5)\n",
    "gs.fit(X_train, y_train)"
   ]
  },
  {
   "cell_type": "code",
   "execution_count": 34,
   "id": "af4d00dc",
   "metadata": {},
   "outputs": [],
   "source": [
    "## 12. Optimal C value and the score corresponding to it\n",
    "# Printing the optimal C value and the corresponding score\n",
    "print(gs.best_params_, gs.best_score_)"
   ]
  },
  {
   "cell_type": "code",
   "execution_count": 35,
   "id": "d14591aa",
   "metadata": {},
   "outputs": [],
   "source": [
    "## 13. Validating the \"best classifier\"\n",
    "# Validating the best classifier found by GridSearchCV\n",
    "clf_best = LogisticRegression(C=gs.best_params_['C'])\n",
    "clf_best.fit(X_train, y_train)\n",
    "y_pred_best = clf_best.predict(X_test)\n",
    "print(f1_score(y_test, y_pred_best))"
   ]
  },
  {
   "cell_type": "code",
   "execution_count": 36,
   "id": "e617d1f9",
   "metadata": {},
   "outputs": [],
   "source": [
    "## 14. Implementing L1 hyperparameter tuning with LogisticRegressionCV\n",
    "# Tuning hyperparameters with L1 penalty using LogisticRegressionCV\n",
    "from sklearn.linear_model import LogisticRegressionCV\n",
    "C_array = np.logspace(-2, 2, 100)\n",
    "clf_l1 = LogisticRegressionCV(Cs=C_array, cv=5, penalty='l1', scoring='f1', solver='liblinear')\n",
    "clf_l1.fit(X, y)"
   ]
  },
  {
   "cell_type": "code",
   "execution_count": 37,
   "id": "ae8e2a83",
   "metadata": {},
   "outputs": [],
   "source": [
    "\n",
    "## 15. Optimal C value and corresponding coefficients\n",
    "# Printing the best C value and corresponding coefficients for L1-regularized model\n",
    "print('Best C value', clf_l1.C_)\n",
    "print('Best fit coefficients', clf_l1.coef_)"
   ]
  },
  {
   "cell_type": "code",
   "execution_count": 38,
   "id": "424fe33a",
   "metadata": {},
   "outputs": [],
   "source": [
    "## 16. Plotting the tuned L1 coefficients\n",
    "# Visualizing the coefficients of the tuned L1-regularized model\n",
    "coefficients = clf_l1.coef_.ravel()\n",
    "coef = pd.Series(coefficients, predictors).sort_values()\n",
    "coef.plot(kind='bar', title='Coefficients for tuned L1')\n",
    "plt.tight_layout()\n",
    "plt.show()\n",
    "plt.clf()"
   ]
  },
  {
   "cell_type": "code",
   "execution_count": null,
   "id": "b7aee14c",
   "metadata": {},
   "outputs": [],
   "source": []
  },
  {
   "cell_type": "code",
   "execution_count": null,
   "id": "5203daeb",
   "metadata": {},
   "outputs": [],
   "source": []
  }
 ],
 "metadata": {
  "kernelspec": {
   "display_name": "Python 3 (ipykernel)",
   "language": "python",
   "name": "python3"
  },
  "language_info": {
   "codemirror_mode": {
    "name": "ipython",
    "version": 3
   },
   "file_extension": ".py",
   "mimetype": "text/x-python",
   "name": "python",
   "nbconvert_exporter": "python",
   "pygments_lexer": "ipython3",
   "version": "3.11.3"
  }
 },
 "nbformat": 4,
 "nbformat_minor": 5
}
